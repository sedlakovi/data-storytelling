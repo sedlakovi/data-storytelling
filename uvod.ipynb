{
 "cells": [
  {
   "cell_type": "markdown",
   "metadata": {
    "slideshow": {
     "slide_type": "slide"
    }
   },
   "source": [
    "# Naše filozofie\n",
    "\n",
    "Anastazie Sedláková, Filip Sedlák\n",
    "\n",
    "Robots and people\n",
    "<img src=https://image.flaticon.com/icons/svg/910/910129.svg width=\"70\">"
   ]
  },
  {
   "cell_type": "markdown",
   "metadata": {
    "slideshow": {
     "slide_type": "slide"
    }
   },
   "source": [
    "## Buďte laskaví k sobě \n",
    "<img src=https://image.flaticon.com/icons/svg/149/149219.svg width=\"50\">"
   ]
  },
  {
   "cell_type": "markdown",
   "metadata": {
    "slideshow": {
     "slide_type": "slide"
    }
   },
   "source": [
    "## Najděte vlastní tempo učení\n",
    "<img src=https://image.flaticon.com/icons/svg/106/106102.svg width=\"50\">"
   ]
  },
  {
   "cell_type": "markdown",
   "metadata": {
    "slideshow": {
     "slide_type": "slide"
    }
   },
   "source": [
    "## Uvědomte si, že některé věci prostě trvají\n",
    "<img src=https://image.flaticon.com/icons/svg/1078/1078014.svg width=\"50\">"
   ]
  },
  {
   "cell_type": "markdown",
   "metadata": {
    "slideshow": {
     "slide_type": "slide"
    }
   },
   "source": [
    "## Učte se vrstvu po vrstvě\n",
    "<img src=https://image.flaticon.com/icons/svg/862/862884.svg width=\"50\">"
   ]
  },
  {
   "cell_type": "markdown",
   "metadata": {
    "slideshow": {
     "slide_type": "slide"
    }
   },
   "source": [
    "## Hrajte si!\n",
    "<img src=\"rocking-horse.png\" width=\"50\">"
   ]
  },
  {
   "cell_type": "markdown",
   "metadata": {
    "slideshow": {
     "slide_type": "slide"
    }
   },
   "source": [
    "## Praktické rady\n",
    "\n",
    "- Dělejte časté přestávky (protážení, káva, čaj, kousek koláče)\n",
    "- Ptejte se (například abyste ověřili, zda jste správně pochopili nějaký koncept)\n",
    "- Pokud něčemu nerozumíte, zkuste se podívat na více zdrojů vysvětlující totéž\n",
    "- Vyčkejte, porozumění přijde :)\n",
    "\n"
   ]
  }
 ],
 "metadata": {
  "celltoolbar": "Slideshow",
  "kernelspec": {
   "display_name": "Python 3",
   "language": "python",
   "name": "python3"
  },
  "language_info": {
   "codemirror_mode": {
    "name": "ipython",
    "version": 3
   },
   "file_extension": ".py",
   "mimetype": "text/x-python",
   "name": "python",
   "nbconvert_exporter": "python",
   "pygments_lexer": "ipython3",
   "version": "3.6.2"
  }
 },
 "nbformat": 4,
 "nbformat_minor": 2
}
